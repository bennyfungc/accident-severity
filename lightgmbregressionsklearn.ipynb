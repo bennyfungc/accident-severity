{
 "metadata": {
  "language_info": {
   "codemirror_mode": {
    "name": "ipython",
    "version": 3
   },
   "file_extension": ".py",
   "mimetype": "text/x-python",
   "name": "python",
   "nbconvert_exporter": "python",
   "pygments_lexer": "ipython3",
   "version": "3.8.5"
  },
  "orig_nbformat": 2,
  "kernelspec": {
   "name": "python385jvsc74a57bd0dca0ade3e726a953b501b15e8e990130d2b7799f14cfd9f4271676035ebe5511",
   "display_name": "Python 3.8.5 64-bit ('base': conda)"
  }
 },
 "nbformat": 4,
 "nbformat_minor": 2,
 "cells": [
  {
   "cell_type": "code",
   "execution_count": 1,
   "metadata": {},
   "outputs": [],
   "source": [
    "%matplotlib inline\n",
    "import matplotlib.pyplot as plt\n",
    "\n",
    "import os, gc\n",
    "import numpy as np\n",
    "import pandas as pd\n",
    "\n",
    "from sklearn import metrics, model_selection\n",
    "from sklearn.preprocessing import LabelEncoder\n",
    "\n",
    "import lightgbm as lgb"
   ]
  },
  {
   "cell_type": "code",
   "execution_count": 2,
   "metadata": {},
   "outputs": [],
   "source": [
    "df = pd.read_csv('US_Accidents_Dec20.csv')"
   ]
  },
  {
   "cell_type": "code",
   "execution_count": 3,
   "metadata": {},
   "outputs": [],
   "source": [
    "df1 = df"
   ]
  },
  {
   "cell_type": "code",
   "execution_count": 4,
   "metadata": {},
   "outputs": [
    {
     "output_type": "execute_result",
     "data": {
      "text/plain": [
       "(4232541, 49)"
      ]
     },
     "metadata": {},
     "execution_count": 4
    }
   ],
   "source": [
    "df1.shape"
   ]
  },
  {
   "cell_type": "code",
   "execution_count": 5,
   "metadata": {},
   "outputs": [],
   "source": [
    "df1 = df1.drop(['Distance(mi)', 'TMC', 'Country', 'Description', 'City', 'County', 'Street', 'Side', 'Zipcode', 'State', 'Airport_Code', 'Civil_Twilight', 'Nautical_Twilight', 'Astronomical_Twilight'], axis=1)"
   ]
  },
  {
   "cell_type": "code",
   "execution_count": 6,
   "metadata": {},
   "outputs": [
    {
     "output_type": "execute_result",
     "data": {
      "text/plain": [
       "    ID    Source  Severity           Start_Time             End_Time  \\\n",
       "0  A-1  MapQuest         3  2016-02-08 05:46:00  2016-02-08 11:00:00   \n",
       "1  A-2  MapQuest         2  2016-02-08 06:07:59  2016-02-08 06:37:59   \n",
       "2  A-3  MapQuest         2  2016-02-08 06:49:27  2016-02-08 07:19:27   \n",
       "3  A-4  MapQuest         3  2016-02-08 07:23:34  2016-02-08 07:53:34   \n",
       "4  A-5  MapQuest         2  2016-02-08 07:39:07  2016-02-08 08:09:07   \n",
       "\n",
       "   Start_Lat  Start_Lng  End_Lat  End_Lng  Number  ... Junction No_Exit  \\\n",
       "0  39.865147 -84.058723      NaN      NaN     NaN  ...    False   False   \n",
       "1  39.928059 -82.831184      NaN      NaN  2584.0  ...    False   False   \n",
       "2  39.063148 -84.032608      NaN      NaN     NaN  ...    False   False   \n",
       "3  39.747753 -84.205582      NaN      NaN     NaN  ...    False   False   \n",
       "4  39.627781 -84.188354      NaN      NaN     NaN  ...    False   False   \n",
       "\n",
       "   Railway  Roundabout  Station   Stop  Traffic_Calming Traffic_Signal  \\\n",
       "0    False       False    False  False            False          False   \n",
       "1    False       False    False  False            False          False   \n",
       "2    False       False    False  False            False           True   \n",
       "3    False       False    False  False            False          False   \n",
       "4    False       False    False  False            False           True   \n",
       "\n",
       "   Turning_Loop  Sunrise_Sunset  \n",
       "0         False           Night  \n",
       "1         False           Night  \n",
       "2         False           Night  \n",
       "3         False           Night  \n",
       "4         False             Day  \n",
       "\n",
       "[5 rows x 35 columns]"
      ],
      "text/html": "<div>\n<style scoped>\n    .dataframe tbody tr th:only-of-type {\n        vertical-align: middle;\n    }\n\n    .dataframe tbody tr th {\n        vertical-align: top;\n    }\n\n    .dataframe thead th {\n        text-align: right;\n    }\n</style>\n<table border=\"1\" class=\"dataframe\">\n  <thead>\n    <tr style=\"text-align: right;\">\n      <th></th>\n      <th>ID</th>\n      <th>Source</th>\n      <th>Severity</th>\n      <th>Start_Time</th>\n      <th>End_Time</th>\n      <th>Start_Lat</th>\n      <th>Start_Lng</th>\n      <th>End_Lat</th>\n      <th>End_Lng</th>\n      <th>Number</th>\n      <th>...</th>\n      <th>Junction</th>\n      <th>No_Exit</th>\n      <th>Railway</th>\n      <th>Roundabout</th>\n      <th>Station</th>\n      <th>Stop</th>\n      <th>Traffic_Calming</th>\n      <th>Traffic_Signal</th>\n      <th>Turning_Loop</th>\n      <th>Sunrise_Sunset</th>\n    </tr>\n  </thead>\n  <tbody>\n    <tr>\n      <th>0</th>\n      <td>A-1</td>\n      <td>MapQuest</td>\n      <td>3</td>\n      <td>2016-02-08 05:46:00</td>\n      <td>2016-02-08 11:00:00</td>\n      <td>39.865147</td>\n      <td>-84.058723</td>\n      <td>NaN</td>\n      <td>NaN</td>\n      <td>NaN</td>\n      <td>...</td>\n      <td>False</td>\n      <td>False</td>\n      <td>False</td>\n      <td>False</td>\n      <td>False</td>\n      <td>False</td>\n      <td>False</td>\n      <td>False</td>\n      <td>False</td>\n      <td>Night</td>\n    </tr>\n    <tr>\n      <th>1</th>\n      <td>A-2</td>\n      <td>MapQuest</td>\n      <td>2</td>\n      <td>2016-02-08 06:07:59</td>\n      <td>2016-02-08 06:37:59</td>\n      <td>39.928059</td>\n      <td>-82.831184</td>\n      <td>NaN</td>\n      <td>NaN</td>\n      <td>2584.0</td>\n      <td>...</td>\n      <td>False</td>\n      <td>False</td>\n      <td>False</td>\n      <td>False</td>\n      <td>False</td>\n      <td>False</td>\n      <td>False</td>\n      <td>False</td>\n      <td>False</td>\n      <td>Night</td>\n    </tr>\n    <tr>\n      <th>2</th>\n      <td>A-3</td>\n      <td>MapQuest</td>\n      <td>2</td>\n      <td>2016-02-08 06:49:27</td>\n      <td>2016-02-08 07:19:27</td>\n      <td>39.063148</td>\n      <td>-84.032608</td>\n      <td>NaN</td>\n      <td>NaN</td>\n      <td>NaN</td>\n      <td>...</td>\n      <td>False</td>\n      <td>False</td>\n      <td>False</td>\n      <td>False</td>\n      <td>False</td>\n      <td>False</td>\n      <td>False</td>\n      <td>True</td>\n      <td>False</td>\n      <td>Night</td>\n    </tr>\n    <tr>\n      <th>3</th>\n      <td>A-4</td>\n      <td>MapQuest</td>\n      <td>3</td>\n      <td>2016-02-08 07:23:34</td>\n      <td>2016-02-08 07:53:34</td>\n      <td>39.747753</td>\n      <td>-84.205582</td>\n      <td>NaN</td>\n      <td>NaN</td>\n      <td>NaN</td>\n      <td>...</td>\n      <td>False</td>\n      <td>False</td>\n      <td>False</td>\n      <td>False</td>\n      <td>False</td>\n      <td>False</td>\n      <td>False</td>\n      <td>False</td>\n      <td>False</td>\n      <td>Night</td>\n    </tr>\n    <tr>\n      <th>4</th>\n      <td>A-5</td>\n      <td>MapQuest</td>\n      <td>2</td>\n      <td>2016-02-08 07:39:07</td>\n      <td>2016-02-08 08:09:07</td>\n      <td>39.627781</td>\n      <td>-84.188354</td>\n      <td>NaN</td>\n      <td>NaN</td>\n      <td>NaN</td>\n      <td>...</td>\n      <td>False</td>\n      <td>False</td>\n      <td>False</td>\n      <td>False</td>\n      <td>False</td>\n      <td>False</td>\n      <td>False</td>\n      <td>True</td>\n      <td>False</td>\n      <td>Day</td>\n    </tr>\n  </tbody>\n</table>\n<p>5 rows × 35 columns</p>\n</div>"
     },
     "metadata": {},
     "execution_count": 6
    }
   ],
   "source": [
    "df1.head()"
   ]
  },
  {
   "cell_type": "code",
   "execution_count": 7,
   "metadata": {},
   "outputs": [
    {
     "output_type": "execute_result",
     "data": {
      "text/plain": [
       "ID                         0\n",
       "Source                     0\n",
       "Severity                   0\n",
       "Start_Time                 0\n",
       "End_Time                   0\n",
       "Start_Lat                  0\n",
       "Start_Lng                  0\n",
       "End_Lat              2716477\n",
       "End_Lng              2716477\n",
       "Number               2687949\n",
       "Timezone                4615\n",
       "Weather_Timestamp      62644\n",
       "Temperature(F)         89900\n",
       "Wind_Chill(F)        1896001\n",
       "Humidity(%)            95467\n",
       "Pressure(in)           76384\n",
       "Visibility(mi)         98668\n",
       "Wind_Direction         83611\n",
       "Wind_Speed(mph)       479326\n",
       "Precipitation(in)    2065589\n",
       "Weather_Condition      98383\n",
       "Amenity                    0\n",
       "Bump                       0\n",
       "Crossing                   0\n",
       "Give_Way                   0\n",
       "Junction                   0\n",
       "No_Exit                    0\n",
       "Railway                    0\n",
       "Roundabout                 0\n",
       "Station                    0\n",
       "Stop                       0\n",
       "Traffic_Calming            0\n",
       "Traffic_Signal             0\n",
       "Turning_Loop               0\n",
       "Sunrise_Sunset           141\n",
       "dtype: int64"
      ]
     },
     "metadata": {},
     "execution_count": 7
    }
   ],
   "source": [
    "df1.isnull().sum()"
   ]
  },
  {
   "cell_type": "code",
   "execution_count": 8,
   "metadata": {},
   "outputs": [],
   "source": [
    "df1.drop(['Timezone','Weather_Timestamp', 'Start_Time', 'End_Time', 'ID', 'Source'], axis = 1, inplace = True)"
   ]
  },
  {
   "cell_type": "code",
   "execution_count": 9,
   "metadata": {},
   "outputs": [
    {
     "output_type": "execute_result",
     "data": {
      "text/plain": [
       "Severity                   0\n",
       "Start_Lat                  0\n",
       "Start_Lng                  0\n",
       "End_Lat              2716477\n",
       "End_Lng              2716477\n",
       "Number               2687949\n",
       "Temperature(F)         89900\n",
       "Wind_Chill(F)        1896001\n",
       "Humidity(%)            95467\n",
       "Pressure(in)           76384\n",
       "Visibility(mi)         98668\n",
       "Wind_Direction         83611\n",
       "Wind_Speed(mph)       479326\n",
       "Precipitation(in)    2065589\n",
       "Weather_Condition      98383\n",
       "Amenity                    0\n",
       "Bump                       0\n",
       "Crossing                   0\n",
       "Give_Way                   0\n",
       "Junction                   0\n",
       "No_Exit                    0\n",
       "Railway                    0\n",
       "Roundabout                 0\n",
       "Station                    0\n",
       "Stop                       0\n",
       "Traffic_Calming            0\n",
       "Traffic_Signal             0\n",
       "Turning_Loop               0\n",
       "Sunrise_Sunset           141\n",
       "dtype: int64"
      ]
     },
     "metadata": {},
     "execution_count": 9
    }
   ],
   "source": [
    "df1.isnull().sum()"
   ]
  },
  {
   "cell_type": "code",
   "execution_count": 10,
   "metadata": {},
   "outputs": [],
   "source": [
    "df1.dropna(axis=0, inplace=True)"
   ]
  },
  {
   "cell_type": "code",
   "execution_count": 11,
   "metadata": {},
   "outputs": [
    {
     "output_type": "execute_result",
     "data": {
      "text/plain": [
       "Severity             0\n",
       "Start_Lat            0\n",
       "Start_Lng            0\n",
       "End_Lat              0\n",
       "End_Lng              0\n",
       "Number               0\n",
       "Temperature(F)       0\n",
       "Wind_Chill(F)        0\n",
       "Humidity(%)          0\n",
       "Pressure(in)         0\n",
       "Visibility(mi)       0\n",
       "Wind_Direction       0\n",
       "Wind_Speed(mph)      0\n",
       "Precipitation(in)    0\n",
       "Weather_Condition    0\n",
       "Amenity              0\n",
       "Bump                 0\n",
       "Crossing             0\n",
       "Give_Way             0\n",
       "Junction             0\n",
       "No_Exit              0\n",
       "Railway              0\n",
       "Roundabout           0\n",
       "Station              0\n",
       "Stop                 0\n",
       "Traffic_Calming      0\n",
       "Traffic_Signal       0\n",
       "Turning_Loop         0\n",
       "Sunrise_Sunset       0\n",
       "dtype: int64"
      ]
     },
     "metadata": {},
     "execution_count": 11
    }
   ],
   "source": [
    "df1.isnull().sum()"
   ]
  },
  {
   "cell_type": "code",
   "execution_count": 12,
   "metadata": {},
   "outputs": [],
   "source": [
    "from sklearn import preprocessing\n",
    "label_encoder = preprocessing.LabelEncoder()"
   ]
  },
  {
   "cell_type": "code",
   "execution_count": 13,
   "metadata": {},
   "outputs": [
    {
     "output_type": "execute_result",
     "data": {
      "text/plain": [
       "         Severity  Start_Lat  Start_Lng   End_Lat   End_Lng   Number  \\\n",
       "2716521         4   40.45112  -85.15048  40.35429 -85.14993   9001.0   \n",
       "2716522         4   40.35429  -85.14993  40.45112 -85.15048    473.0   \n",
       "2716526         4   40.72813  -84.78965  40.74559 -84.78962  12998.0   \n",
       "2716529         2   41.83193  -80.10143  41.84149 -80.11099  25529.0   \n",
       "2716546         2   41.48339  -81.66297  41.47692 -81.66075   3937.0   \n",
       "\n",
       "         Temperature(F)  Wind_Chill(F)  Humidity(%)  Pressure(in)  ...  \\\n",
       "2716521            19.9            7.3         81.0         29.85  ...   \n",
       "2716522            19.9            7.3         81.0         29.85  ...   \n",
       "2716526            17.1            0.6         77.0         29.91  ...   \n",
       "2716529            21.0            9.9         85.0         29.69  ...   \n",
       "2716546            24.1            7.1         75.0         29.82  ...   \n",
       "\n",
       "         Junction  No_Exit  Railway  Roundabout  Station   Stop  \\\n",
       "2716521     False    False    False       False    False  False   \n",
       "2716522     False    False    False       False    False  False   \n",
       "2716526     False    False    False       False    False  False   \n",
       "2716529     False    False    False       False    False  False   \n",
       "2716546     False    False    False       False    False  False   \n",
       "\n",
       "         Traffic_Calming  Traffic_Signal  Turning_Loop  Sunrise_Sunset  \n",
       "2716521            False           False         False               1  \n",
       "2716522            False           False         False               1  \n",
       "2716526            False           False         False               1  \n",
       "2716529            False           False         False               0  \n",
       "2716546            False           False         False               0  \n",
       "\n",
       "[5 rows x 29 columns]"
      ],
      "text/html": "<div>\n<style scoped>\n    .dataframe tbody tr th:only-of-type {\n        vertical-align: middle;\n    }\n\n    .dataframe tbody tr th {\n        vertical-align: top;\n    }\n\n    .dataframe thead th {\n        text-align: right;\n    }\n</style>\n<table border=\"1\" class=\"dataframe\">\n  <thead>\n    <tr style=\"text-align: right;\">\n      <th></th>\n      <th>Severity</th>\n      <th>Start_Lat</th>\n      <th>Start_Lng</th>\n      <th>End_Lat</th>\n      <th>End_Lng</th>\n      <th>Number</th>\n      <th>Temperature(F)</th>\n      <th>Wind_Chill(F)</th>\n      <th>Humidity(%)</th>\n      <th>Pressure(in)</th>\n      <th>...</th>\n      <th>Junction</th>\n      <th>No_Exit</th>\n      <th>Railway</th>\n      <th>Roundabout</th>\n      <th>Station</th>\n      <th>Stop</th>\n      <th>Traffic_Calming</th>\n      <th>Traffic_Signal</th>\n      <th>Turning_Loop</th>\n      <th>Sunrise_Sunset</th>\n    </tr>\n  </thead>\n  <tbody>\n    <tr>\n      <th>2716521</th>\n      <td>4</td>\n      <td>40.45112</td>\n      <td>-85.15048</td>\n      <td>40.35429</td>\n      <td>-85.14993</td>\n      <td>9001.0</td>\n      <td>19.9</td>\n      <td>7.3</td>\n      <td>81.0</td>\n      <td>29.85</td>\n      <td>...</td>\n      <td>False</td>\n      <td>False</td>\n      <td>False</td>\n      <td>False</td>\n      <td>False</td>\n      <td>False</td>\n      <td>False</td>\n      <td>False</td>\n      <td>False</td>\n      <td>1</td>\n    </tr>\n    <tr>\n      <th>2716522</th>\n      <td>4</td>\n      <td>40.35429</td>\n      <td>-85.14993</td>\n      <td>40.45112</td>\n      <td>-85.15048</td>\n      <td>473.0</td>\n      <td>19.9</td>\n      <td>7.3</td>\n      <td>81.0</td>\n      <td>29.85</td>\n      <td>...</td>\n      <td>False</td>\n      <td>False</td>\n      <td>False</td>\n      <td>False</td>\n      <td>False</td>\n      <td>False</td>\n      <td>False</td>\n      <td>False</td>\n      <td>False</td>\n      <td>1</td>\n    </tr>\n    <tr>\n      <th>2716526</th>\n      <td>4</td>\n      <td>40.72813</td>\n      <td>-84.78965</td>\n      <td>40.74559</td>\n      <td>-84.78962</td>\n      <td>12998.0</td>\n      <td>17.1</td>\n      <td>0.6</td>\n      <td>77.0</td>\n      <td>29.91</td>\n      <td>...</td>\n      <td>False</td>\n      <td>False</td>\n      <td>False</td>\n      <td>False</td>\n      <td>False</td>\n      <td>False</td>\n      <td>False</td>\n      <td>False</td>\n      <td>False</td>\n      <td>1</td>\n    </tr>\n    <tr>\n      <th>2716529</th>\n      <td>2</td>\n      <td>41.83193</td>\n      <td>-80.10143</td>\n      <td>41.84149</td>\n      <td>-80.11099</td>\n      <td>25529.0</td>\n      <td>21.0</td>\n      <td>9.9</td>\n      <td>85.0</td>\n      <td>29.69</td>\n      <td>...</td>\n      <td>False</td>\n      <td>False</td>\n      <td>False</td>\n      <td>False</td>\n      <td>False</td>\n      <td>False</td>\n      <td>False</td>\n      <td>False</td>\n      <td>False</td>\n      <td>0</td>\n    </tr>\n    <tr>\n      <th>2716546</th>\n      <td>2</td>\n      <td>41.48339</td>\n      <td>-81.66297</td>\n      <td>41.47692</td>\n      <td>-81.66075</td>\n      <td>3937.0</td>\n      <td>24.1</td>\n      <td>7.1</td>\n      <td>75.0</td>\n      <td>29.82</td>\n      <td>...</td>\n      <td>False</td>\n      <td>False</td>\n      <td>False</td>\n      <td>False</td>\n      <td>False</td>\n      <td>False</td>\n      <td>False</td>\n      <td>False</td>\n      <td>False</td>\n      <td>0</td>\n    </tr>\n  </tbody>\n</table>\n<p>5 rows × 29 columns</p>\n</div>"
     },
     "metadata": {},
     "execution_count": 13
    }
   ],
   "source": [
    "df1['Sunrise_Sunset'] = label_encoder.fit_transform(df1['Sunrise_Sunset'])\n",
    "df1['Weather_Condition'] = label_encoder.fit_transform(df1['Weather_Condition'])\n",
    "df1['Wind_Direction'] = label_encoder.fit_transform(df1['Wind_Direction'])\n",
    "df1.head()"
   ]
  },
  {
   "cell_type": "code",
   "execution_count": 14,
   "metadata": {},
   "outputs": [
    {
     "output_type": "execute_result",
     "data": {
      "text/plain": [
       "         Severity  Start_Lat  Start_Lng   End_Lat   End_Lng   Number  \\\n",
       "2716521         4   40.45112  -85.15048  40.35429 -85.14993   9001.0   \n",
       "2716522         4   40.35429  -85.14993  40.45112 -85.15048    473.0   \n",
       "2716526         4   40.72813  -84.78965  40.74559 -84.78962  12998.0   \n",
       "2716529         2   41.83193  -80.10143  41.84149 -80.11099  25529.0   \n",
       "2716546         2   41.48339  -81.66297  41.47692 -81.66075   3937.0   \n",
       "\n",
       "         Temperature(F)  Wind_Chill(F)  Humidity(%)  Pressure(in)  ...  \\\n",
       "2716521            19.9            7.3         81.0         29.85  ...   \n",
       "2716522            19.9            7.3         81.0         29.85  ...   \n",
       "2716526            17.1            0.6         77.0         29.91  ...   \n",
       "2716529            21.0            9.9         85.0         29.69  ...   \n",
       "2716546            24.1            7.1         75.0         29.82  ...   \n",
       "\n",
       "         Junction  No_Exit  Railway  Roundabout  Station  Stop  \\\n",
       "2716521         0        0        0           0        0     0   \n",
       "2716522         0        0        0           0        0     0   \n",
       "2716526         0        0        0           0        0     0   \n",
       "2716529         0        0        0           0        0     0   \n",
       "2716546         0        0        0           0        0     0   \n",
       "\n",
       "         Traffic_Calming  Traffic_Signal  Turning_Loop  Sunrise_Sunset  \n",
       "2716521                0               0             0               1  \n",
       "2716522                0               0             0               1  \n",
       "2716526                0               0             0               1  \n",
       "2716529                0               0             0               0  \n",
       "2716546                0               0             0               0  \n",
       "\n",
       "[5 rows x 29 columns]"
      ],
      "text/html": "<div>\n<style scoped>\n    .dataframe tbody tr th:only-of-type {\n        vertical-align: middle;\n    }\n\n    .dataframe tbody tr th {\n        vertical-align: top;\n    }\n\n    .dataframe thead th {\n        text-align: right;\n    }\n</style>\n<table border=\"1\" class=\"dataframe\">\n  <thead>\n    <tr style=\"text-align: right;\">\n      <th></th>\n      <th>Severity</th>\n      <th>Start_Lat</th>\n      <th>Start_Lng</th>\n      <th>End_Lat</th>\n      <th>End_Lng</th>\n      <th>Number</th>\n      <th>Temperature(F)</th>\n      <th>Wind_Chill(F)</th>\n      <th>Humidity(%)</th>\n      <th>Pressure(in)</th>\n      <th>...</th>\n      <th>Junction</th>\n      <th>No_Exit</th>\n      <th>Railway</th>\n      <th>Roundabout</th>\n      <th>Station</th>\n      <th>Stop</th>\n      <th>Traffic_Calming</th>\n      <th>Traffic_Signal</th>\n      <th>Turning_Loop</th>\n      <th>Sunrise_Sunset</th>\n    </tr>\n  </thead>\n  <tbody>\n    <tr>\n      <th>2716521</th>\n      <td>4</td>\n      <td>40.45112</td>\n      <td>-85.15048</td>\n      <td>40.35429</td>\n      <td>-85.14993</td>\n      <td>9001.0</td>\n      <td>19.9</td>\n      <td>7.3</td>\n      <td>81.0</td>\n      <td>29.85</td>\n      <td>...</td>\n      <td>0</td>\n      <td>0</td>\n      <td>0</td>\n      <td>0</td>\n      <td>0</td>\n      <td>0</td>\n      <td>0</td>\n      <td>0</td>\n      <td>0</td>\n      <td>1</td>\n    </tr>\n    <tr>\n      <th>2716522</th>\n      <td>4</td>\n      <td>40.35429</td>\n      <td>-85.14993</td>\n      <td>40.45112</td>\n      <td>-85.15048</td>\n      <td>473.0</td>\n      <td>19.9</td>\n      <td>7.3</td>\n      <td>81.0</td>\n      <td>29.85</td>\n      <td>...</td>\n      <td>0</td>\n      <td>0</td>\n      <td>0</td>\n      <td>0</td>\n      <td>0</td>\n      <td>0</td>\n      <td>0</td>\n      <td>0</td>\n      <td>0</td>\n      <td>1</td>\n    </tr>\n    <tr>\n      <th>2716526</th>\n      <td>4</td>\n      <td>40.72813</td>\n      <td>-84.78965</td>\n      <td>40.74559</td>\n      <td>-84.78962</td>\n      <td>12998.0</td>\n      <td>17.1</td>\n      <td>0.6</td>\n      <td>77.0</td>\n      <td>29.91</td>\n      <td>...</td>\n      <td>0</td>\n      <td>0</td>\n      <td>0</td>\n      <td>0</td>\n      <td>0</td>\n      <td>0</td>\n      <td>0</td>\n      <td>0</td>\n      <td>0</td>\n      <td>1</td>\n    </tr>\n    <tr>\n      <th>2716529</th>\n      <td>2</td>\n      <td>41.83193</td>\n      <td>-80.10143</td>\n      <td>41.84149</td>\n      <td>-80.11099</td>\n      <td>25529.0</td>\n      <td>21.0</td>\n      <td>9.9</td>\n      <td>85.0</td>\n      <td>29.69</td>\n      <td>...</td>\n      <td>0</td>\n      <td>0</td>\n      <td>0</td>\n      <td>0</td>\n      <td>0</td>\n      <td>0</td>\n      <td>0</td>\n      <td>0</td>\n      <td>0</td>\n      <td>0</td>\n    </tr>\n    <tr>\n      <th>2716546</th>\n      <td>2</td>\n      <td>41.48339</td>\n      <td>-81.66297</td>\n      <td>41.47692</td>\n      <td>-81.66075</td>\n      <td>3937.0</td>\n      <td>24.1</td>\n      <td>7.1</td>\n      <td>75.0</td>\n      <td>29.82</td>\n      <td>...</td>\n      <td>0</td>\n      <td>0</td>\n      <td>0</td>\n      <td>0</td>\n      <td>0</td>\n      <td>0</td>\n      <td>0</td>\n      <td>0</td>\n      <td>0</td>\n      <td>0</td>\n    </tr>\n  </tbody>\n</table>\n<p>5 rows × 29 columns</p>\n</div>"
     },
     "metadata": {},
     "execution_count": 14
    }
   ],
   "source": [
    "df1['Amenity'] = label_encoder.fit_transform(df1['Amenity'])\n",
    "df1['Bump'] = label_encoder.fit_transform(df1['Bump'])\n",
    "df1['Crossing'] = label_encoder.fit_transform(df1['Crossing'])\n",
    "df1['Give_Way'] = label_encoder.fit_transform(df1['Give_Way'])\n",
    "df1['Junction'] = label_encoder.fit_transform(df1['Junction'])\n",
    "df1['No_Exit'] = label_encoder.fit_transform(df1['No_Exit'])\n",
    "df1['Railway'] = label_encoder.fit_transform(df1['Railway'])\n",
    "df1['Roundabout'] = label_encoder.fit_transform(df1['Roundabout'])\n",
    "df1['Station'] = label_encoder.fit_transform(df1['Station'])\n",
    "df1['Stop'] = label_encoder.fit_transform(df1['Stop'])\n",
    "df1['Traffic_Calming'] = label_encoder.fit_transform(df1['Traffic_Calming'])\n",
    "df1['Traffic_Signal'] = label_encoder.fit_transform(df1['Traffic_Signal'])\n",
    "df1['Turning_Loop'] = label_encoder.fit_transform(df1['Turning_Loop'])\n",
    "df1.head()"
   ]
  },
  {
   "cell_type": "code",
   "execution_count": 15,
   "metadata": {},
   "outputs": [
    {
     "output_type": "execute_result",
     "data": {
      "text/plain": [
       "(334821, 29)"
      ]
     },
     "metadata": {},
     "execution_count": 15
    }
   ],
   "source": [
    "df1.shape"
   ]
  },
  {
   "cell_type": "code",
   "execution_count": 16,
   "metadata": {},
   "outputs": [],
   "source": [
    "X = df1.drop(['Severity'], axis = 1)"
   ]
  },
  {
   "cell_type": "code",
   "execution_count": 17,
   "metadata": {},
   "outputs": [],
   "source": [
    "Y = df1['Severity']"
   ]
  },
  {
   "cell_type": "code",
   "execution_count": 18,
   "metadata": {},
   "outputs": [],
   "source": [
    "from sklearn.model_selection import train_test_split\n",
    "from sklearn.metrics import r2_score, mean_squared_error\n",
    "X_train, X_test, y_train, y_test = train_test_split(X, Y, test_size=0.2, random_state=42)"
   ]
  },
  {
   "cell_type": "code",
   "execution_count": 19,
   "metadata": {},
   "outputs": [],
   "source": [
    "lgb_train = lgb.Dataset(X_train, y_train)\n",
    "lgb_eval = lgb.Dataset(X_test, y_test, reference=lgb_train)"
   ]
  },
  {
   "cell_type": "code",
   "execution_count": 20,
   "metadata": {
    "tags": []
   },
   "outputs": [
    {
     "output_type": "stream",
     "name": "stdout",
     "text": [
      "Starting training...\n",
      "[LightGBM] [Warning] Auto-choosing row-wise multi-threading, the overhead of testing was 0.213285 seconds.\n",
      "You can set `force_row_wise=true` to remove the overhead.\n",
      "And if memory is not enough, you can set `force_col_wise=true`.\n",
      "[1]\tvalid_0's poisson: 0.516188\n",
      "Training until validation scores don't improve for 20 rounds\n",
      "[2]\tvalid_0's poisson: 0.516185\n",
      "[3]\tvalid_0's poisson: 0.516183\n",
      "[4]\tvalid_0's poisson: 0.516181\n",
      "[5]\tvalid_0's poisson: 0.516179\n",
      "[6]\tvalid_0's poisson: 0.516176\n",
      "[7]\tvalid_0's poisson: 0.516174\n",
      "[8]\tvalid_0's poisson: 0.516172\n",
      "[9]\tvalid_0's poisson: 0.516169\n",
      "[10]\tvalid_0's poisson: 0.516167\n",
      "[11]\tvalid_0's poisson: 0.516165\n",
      "[12]\tvalid_0's poisson: 0.516162\n",
      "[13]\tvalid_0's poisson: 0.51616\n",
      "[14]\tvalid_0's poisson: 0.516157\n",
      "[15]\tvalid_0's poisson: 0.516155\n",
      "[16]\tvalid_0's poisson: 0.516153\n",
      "[17]\tvalid_0's poisson: 0.51615\n",
      "[18]\tvalid_0's poisson: 0.516148\n",
      "[19]\tvalid_0's poisson: 0.516146\n",
      "[20]\tvalid_0's poisson: 0.516143\n",
      "[21]\tvalid_0's poisson: 0.516141\n",
      "[22]\tvalid_0's poisson: 0.516139\n",
      "[23]\tvalid_0's poisson: 0.516136\n",
      "[24]\tvalid_0's poisson: 0.516134\n",
      "[25]\tvalid_0's poisson: 0.516132\n",
      "Did not meet early stopping. Best iteration is:\n",
      "[25]\tvalid_0's poisson: 0.516132\n",
      "Saving model...\n",
      "Starting predicting...\n",
      "The rmse of prediction is: 0.5535752678698297\n"
     ]
    }
   ],
   "source": [
    "params = {\n",
    "    'boosting_type': 'gbdt',\n",
    "    'objective': 'regression',\n",
    "    'metric': {'poisson'},\n",
    "    'num_leaves': 31,\n",
    "    'learning_rate': 0.0001,\n",
    "    'feature_fraction': 0.95,\n",
    "    'bagging_fraction': 0.98,\n",
    "    'bagging_freq': 6,\n",
    "     'max_depth': -1,\n",
    "     'max_bin': 511,\n",
    "     'min_data_in_leaf': 20,\n",
    "     'verbose':  0,\n",
    "}\n",
    "\n",
    "print('Starting training...')\n",
    "# train\n",
    "gbm = lgb.train(params,\n",
    "                lgb_train,\n",
    "                num_boost_round=25,\n",
    "                valid_sets=lgb_eval,\n",
    "                early_stopping_rounds=20)\n",
    "\n",
    "print('Saving model...')\n",
    "# save model to file\n",
    "gbm.save_model('model.txt')\n",
    "\n",
    "print('Starting predicting...')\n",
    "# predict\n",
    "y_pred = gbm.predict(X_test, num_iteration=gbm.best_iteration)\n",
    "# eval\n",
    "print('The rmse of prediction is:', mean_squared_error(y_test, y_pred) ** 0.5)"
   ]
  },
  {
   "cell_type": "code",
   "execution_count": 21,
   "metadata": {},
   "outputs": [],
   "source": [
    "y_pred = y_pred.round(0)\n",
    "y_pred = y_pred.astype(int)\n",
    "def accuracy(y_true, y_pred):\n",
    "    accuracy = np.sum(y_true == y_pred)/len(y_true)\n",
    "    return accuracy\n",
    "Accuracy = accuracy(y_test, y_pred)"
   ]
  },
  {
   "cell_type": "code",
   "execution_count": 22,
   "metadata": {},
   "outputs": [
    {
     "output_type": "execute_result",
     "data": {
      "text/plain": [
       "0.8594937653998357"
      ]
     },
     "metadata": {},
     "execution_count": 22
    }
   ],
   "source": [
    "Accuracy\n"
   ]
  },
  {
   "cell_type": "code",
   "execution_count": null,
   "metadata": {},
   "outputs": [],
   "source": []
  }
 ]
}